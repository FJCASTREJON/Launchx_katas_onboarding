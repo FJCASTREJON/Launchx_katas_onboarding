{
 "cells": [
  {
   "cell_type": "code",
   "execution_count": 20,
   "metadata": {},
   "outputs": [
    {
     "name": "stdout",
     "output_type": "stream",
     "text": [
      "Reporte Combustible:\n",
      "    Promedio: 0.0\n",
      "    tanque_1: 0\n",
      "    tanque_2: 0\n",
      "    tanque_3: 0 \n",
      "    \n"
     ]
    }
   ],
   "source": [
    "def promedio(tanque_1,tanque_2,tanque_3):\n",
    "    suma = tanque_1 + tanque_2 + tanque_3\n",
    "    promedio = (suma/3)\n",
    "\n",
    "    return  f\"\"\"Reporte Combustible:\n",
    "    Promedio: {promedio}\n",
    "    tanque_1: {tanque_1}\n",
    "    tanque_2: {tanque_2}\n",
    "    tanque_3: {tanque_3} \n",
    "    \"\"\"\n",
    "\n",
    "print(promedio(tanque_1=0, tanque_2=0, tanque_3=0))"
   ]
  },
  {
   "cell_type": "code",
   "execution_count": 21,
   "metadata": {},
   "outputs": [
    {
     "name": "stdout",
     "output_type": "stream",
     "text": [
      "Reporte Combustible:\n",
      "    Promedio: 2.0\n",
      "    tanque_1: 3\n",
      "    tanque_2: 3\n",
      "    tanque_3: 0 \n",
      "    \n"
     ]
    }
   ],
   "source": [
    "def promedio(**kwargs):\n",
    "    total_elementos = len(kwargs)\n",
    "    total_valores = 0\n",
    "    for valor in kwargs:\n",
    "        total_valores = total_valores + kwargs[valor]\n",
    "\n",
    "    return (total_valores/total_elementos)\n",
    "\n",
    "def prom_combustible(tanque_1,tanque_2,tanque_3):\n",
    "    prom = promedio(P1 = tanque_1, P2 = tanque_2,P3 = tanque_3)\n",
    "\n",
    "    return  f\"\"\"Reporte Combustible:\n",
    "    Promedio: {prom}\n",
    "    tanque_1: {tanque_1}\n",
    "    tanque_2: {tanque_2}\n",
    "    tanque_3: {tanque_3} \n",
    "    \"\"\"\n",
    "\n",
    "print(prom_combustible(tanque_1=3, tanque_2=3, tanque_3=0))"
   ]
  },
  {
   "cell_type": "code",
   "execution_count": 24,
   "metadata": {},
   "outputs": [
    {
     "name": "stdout",
     "output_type": "stream",
     "text": [
      "\n",
      "    Misión a Moon\n",
      "    Tiempo de vieja: 65 min\n",
      "    Combustible restante: 500000 gals\n",
      "    \n"
     ]
    }
   ],
   "source": [
    "def ingeneral(hora_prelanz, tiempo_vuelo, destino, tanque_externo,tanque_interno):\n",
    "    return f\"\"\"\n",
    "    Misión a {destino}\n",
    "    Tiempo de vieja: {hora_prelanz + tiempo_vuelo} min\n",
    "    Combustible restante: {tanque_externo + tanque_interno} gals\n",
    "    \"\"\"\n",
    "\n",
    "print(ingeneral(14, 51, \"Moon\", 200000, 300000))"
   ]
  },
  {
   "cell_type": "code",
   "execution_count": 26,
   "metadata": {},
   "outputs": [
    {
     "name": "stdout",
     "output_type": "stream",
     "text": [
      "\n",
      "    Misión a Moon\n",
      "    Tiempo de vieja: 76 min\n",
      "    Combustible restante: 500000 gals\n",
      "    \n"
     ]
    }
   ],
   "source": [
    "def ingeneral(destino, *tiempos, **combustibles):\n",
    "    return f\"\"\"\n",
    "    Misión a {destino}\n",
    "    Tiempo de vieja: {sum(tiempos)} min\n",
    "    Combustible restante: {sum(combustibles.values())} gals\n",
    "    \"\"\"\n",
    "\n",
    "print(ingeneral(\"Moon\", 10, 15, 51, main=300000, external=200000))"
   ]
  },
  {
   "cell_type": "code",
   "execution_count": 28,
   "metadata": {},
   "outputs": [
    {
     "name": "stdout",
     "output_type": "stream",
     "text": [
      "\n",
      "    Misión a Moon\n",
      "    Tiempo de vieja: 76 min\n",
      "    Combustible restante: 500000 gals\n",
      "    Tanque main Combustible  --> 300000 gals restantes\n",
      "Tanque external Combustible  --> 200000 gals restantes\n",
      "\n"
     ]
    }
   ],
   "source": [
    "def ingeneral(destino, *tiempos, **combustibles):\n",
    "    inf = f\"\"\"\n",
    "    Misión a {destino}\n",
    "    Tiempo de vieja: {sum(tiempos)} min\n",
    "    Combustible restante: {sum(combustibles.values())} gals\n",
    "    \"\"\"\n",
    "\n",
    "    for nombre, cant in combustibles.items():\n",
    "        inf += f\"Tanque {nombre} Combustible  --> {cant} gals restantes\\n\"\n",
    "\n",
    "    return inf\n",
    "\n",
    "print(ingeneral(\"Moon\", 10, 15, 51, main=300000, external=200000))"
   ]
  }
 ],
 "metadata": {
  "interpreter": {
   "hash": "d28eded0343fe22a381f0da347d5adb0de344d5d130c428da1d9b7a89d18e58e"
  },
  "kernelspec": {
   "display_name": "Python 3.10.2 64-bit",
   "language": "python",
   "name": "python3"
  },
  "language_info": {
   "codemirror_mode": {
    "name": "ipython",
    "version": 3
   },
   "file_extension": ".py",
   "mimetype": "text/x-python",
   "name": "python",
   "nbconvert_exporter": "python",
   "pygments_lexer": "ipython3",
   "version": "3.10.2"
  },
  "orig_nbformat": 4
 },
 "nbformat": 4,
 "nbformat_minor": 2
}
