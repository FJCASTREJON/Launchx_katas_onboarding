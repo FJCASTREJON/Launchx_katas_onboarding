{
 "cells": [
  {
   "cell_type": "code",
   "execution_count": 11,
   "metadata": {},
   "outputs": [
    {
     "name": "stdout",
     "output_type": "stream",
     "text": [
      "Advertencia: Asteriode con velocidad superior a 25 (km/s)\n"
     ]
    }
   ],
   "source": [
    "velocidad = 49\n",
    "\n",
    "if int(velocidad) > 25:\n",
    "    print(\"Advertencia: Asteriode con velocidad superior a 25 (km/s)\")\n",
    "else:\n",
    "    print(\"Hay un asteroide en camino, pero no hay de que preocuparse\")"
   ]
  },
  {
   "cell_type": "code",
   "execution_count": 14,
   "metadata": {},
   "outputs": [
    {
     "name": "stdout",
     "output_type": "stream",
     "text": [
      "Hay un asteroide en camino, pero no hay de que preocuparse\n"
     ]
    }
   ],
   "source": [
    "velocidad = 19\n",
    "\n",
    "if velocidad > 20:\n",
    "    print(\"Hay un asteroide en camino, Es Posible que encuentres un rayo de luz en el cielo\")\n",
    "elif velocidad == 20:\n",
    "    print(\"Hay un asteroide en camino, Es Posible que encuentres un rayo de luz en el cielo\")\n",
    "else:\n",
    "    print(\"Hay un asteroide en camino, pero no hay de que preocuparse\")\n"
   ]
  },
  {
   "cell_type": "code",
   "execution_count": 15,
   "metadata": {},
   "outputs": [
    {
     "name": "stdout",
     "output_type": "stream",
     "text": [
      "Hay un asteroide en camino, Es Posible que encuentres un rayo de luz en el cielo\n"
     ]
    }
   ],
   "source": [
    "velocidad = 25\n",
    "tamano = 40\n",
    "if velocidad > 25 and tamano> 25:\n",
    "    print(\"Advertencia: Asteriode con velocidad superior a 25 (km/s) y de un tamaño peligroso\")\n",
    "elif velocidad >= 20:\n",
    "    print(\"Hay un asteroide en camino, Es Posible que encuentres un rayo de luz en el cielo\")\n",
    "elif tamano < 25:\n",
    "    print(\"Hay un asteroide en camino, pero no hay de que preocuparse\")\n",
    "else:\n",
    "    print(\"Hay un asteroide en camino, pero no hay de que preocuparse\")"
   ]
  }
 ],
 "metadata": {
  "interpreter": {
   "hash": "d28eded0343fe22a381f0da347d5adb0de344d5d130c428da1d9b7a89d18e58e"
  },
  "kernelspec": {
   "display_name": "Python 3.10.2 64-bit",
   "language": "python",
   "name": "python3"
  },
  "language_info": {
   "codemirror_mode": {
    "name": "ipython",
    "version": 3
   },
   "file_extension": ".py",
   "mimetype": "text/x-python",
   "name": "python",
   "nbconvert_exporter": "python",
   "pygments_lexer": "ipython3",
   "version": "3.10.2"
  },
  "orig_nbformat": 4
 },
 "nbformat": 4,
 "nbformat_minor": 2
}
