{
 "cells": [
  {
   "cell_type": "code",
   "execution_count": 2,
   "metadata": {},
   "outputs": [
    {
     "name": "stdout",
     "output_type": "stream",
     "text": [
      "628949330\n",
      "390577533.93\n"
     ]
    }
   ],
   "source": [
    "tierra = 149597870\n",
    "jupiter = 778547200\n",
    "\n",
    "distancia = jupiter - tierra\n",
    "print(distancia)\n",
    "\n",
    "print((distancia * 0.621))"
   ]
  },
  {
   "cell_type": "code",
   "execution_count": 3,
   "metadata": {},
   "outputs": [
    {
     "name": "stdout",
     "output_type": "stream",
     "text": [
      "628949330\n",
      "390577533.93\n"
     ]
    }
   ],
   "source": [
    "primer_p = input(\"Ingrese la distancia(km) al sol para el primer planeta\")\n",
    "segundo_p = input(\"Ingrese la distancia(km) al sol para el segundo planeta\")\n",
    "\n",
    "primer_p = int(primer_p)\n",
    "segundo_p = int(segundo_p)\n",
    "\n",
    "distancia = segundo_p - primer_p\n",
    "print(distancia)\n",
    "\n",
    "distancia_ml = (distancia * 0.621)\n",
    "print(distancia_ml)"
   ]
  }
 ],
 "metadata": {
  "interpreter": {
   "hash": "d28eded0343fe22a381f0da347d5adb0de344d5d130c428da1d9b7a89d18e58e"
  },
  "kernelspec": {
   "display_name": "Python 3.10.2 64-bit",
   "language": "python",
   "name": "python3"
  },
  "language_info": {
   "codemirror_mode": {
    "name": "ipython",
    "version": 3
   },
   "file_extension": ".py",
   "mimetype": "text/x-python",
   "name": "python",
   "nbconvert_exporter": "python",
   "pygments_lexer": "ipython3",
   "version": "3.10.2"
  },
  "orig_nbformat": 4
 },
 "nbformat": 4,
 "nbformat_minor": 2
}
