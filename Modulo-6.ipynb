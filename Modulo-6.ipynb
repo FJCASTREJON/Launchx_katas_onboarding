{
 "cells": [
  {
   "cell_type": "code",
   "execution_count": 7,
   "metadata": {},
   "outputs": [
    {
     "name": "stdout",
     "output_type": "stream",
     "text": [
      "Número de planetas:  8\n"
     ]
    }
   ],
   "source": [
    "planets = ['Mercurio', 'Venus', 'Tierra', 'Marte', 'Jupiter', 'Saturno', 'Urano', 'Neptuno']\n",
    "print(\"Número de planetas: \" , len(planets))"
   ]
  },
  {
   "cell_type": "code",
   "execution_count": 8,
   "metadata": {},
   "outputs": [
    {
     "name": "stdout",
     "output_type": "stream",
     "text": [
      "Número de planetas:  9\n",
      "El Último planeta es:  Plutón\n"
     ]
    }
   ],
   "source": [
    "planets.append('Plutón')\n",
    "print(\"Número de planetas: \" , len(planets))\n",
    "print(\"El Último planeta es: \" , planets[8])"
   ]
  },
  {
   "cell_type": "code",
   "execution_count": 12,
   "metadata": {},
   "outputs": [
    {
     "name": "stdout",
     "output_type": "stream",
     "text": [
      "los planetas mas cercanos al sol que  Marte  son  ['Mercurio', 'Venus', 'Tierra']\n",
      "los planetas mas lejanos al sol que  Marte  son  ['Jupiter', 'Saturno', 'Urano', 'Neptuno']\n"
     ]
    }
   ],
   "source": [
    "planets = ['Mercurio', 'Venus', 'Tierra', 'Marte', 'Jupiter', 'Saturno', 'Urano', 'Neptuno']\n",
    "planeta_input = input(\"Ingresa el nombre de un planeta, iniciando con la primer letra mayscula\")\n",
    "posicion_input = planets.index(planeta_input)\n",
    "\n",
    "print(\"los planetas mas cercanos al sol que \", planeta_input, \" son \", planets[0:int(posicion_input)])\n",
    "print(\"los planetas mas lejanos al sol que \", planeta_input, \" son \", planets[int(posicion_input)+1:])"
   ]
  }
 ],
 "metadata": {
  "interpreter": {
   "hash": "d28eded0343fe22a381f0da347d5adb0de344d5d130c428da1d9b7a89d18e58e"
  },
  "kernelspec": {
   "display_name": "Python 3.10.2 64-bit",
   "language": "python",
   "name": "python3"
  },
  "language_info": {
   "codemirror_mode": {
    "name": "ipython",
    "version": 3
   },
   "file_extension": ".py",
   "mimetype": "text/x-python",
   "name": "python",
   "nbconvert_exporter": "python",
   "pygments_lexer": "ipython3",
   "version": "3.10.2"
  },
  "orig_nbformat": 4
 },
 "nbformat": 4,
 "nbformat_minor": 2
}
